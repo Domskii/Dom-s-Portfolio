import sqlite3
import pandas as pd

con = sqlite3.connect("sakila.db")
